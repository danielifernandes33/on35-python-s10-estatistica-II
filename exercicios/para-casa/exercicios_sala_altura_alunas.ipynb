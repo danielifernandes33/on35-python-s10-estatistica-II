{
 "cells": [
  {
   "cell_type": "markdown",
   "metadata": {},
   "source": [
    "# Coleta de dados para o exercício de casa:\n",
    "\n",
    "Coletar a altura média de cada uma das alunas, excluindo a Professora, Facilitaroa e Monitora.\n",
    "\n",
    "\n",
    "**Exercício: Teste z para Altura Média da Turma**\n",
    "\n",
    "**Cenário:**\n",
    "\n",
    "Queremos avaliar se a altura média da turma on35 é significativamente diferente da altura média nacional da população feminina brasileira, que é de 161 cm.\n",
    "\n",
    "**Objetivo:**\n",
    "\n",
    "    Verificar se a altura média da turma é significativamente diferente de 160 cm.\n",
    "\n",
    "Dados da Amostra:\n",
    "\n",
    "    Altura da turma (em cm): [158, 162, 161, 159, 164, 165, 157, 160, 163, 161, 159, 162, 158, 160, 161]\n",
    "\n",
    "\n",
    "**Perguntas:**\n",
    "\n",
    "\n",
    "Calcule a estatística z e o valor p para verificar se a altura média da turma é significativamente diferente de 161 cm.\n",
    "\n",
    "**Interprete os resultados:** A altura média da turma é significativamente diferente de 161 cm?\n",
    "\n",
    "**Hipóteses:**\n",
    "\n",
    "**Hipótese Nula (H0):**\n",
    "\n",
    "A hipótese nula é a suposição inicial de que não há diferença significativa entre a média da amostra e o valor de referência.\n",
    "No contexto do nosso exemplo:\n",
    "\n",
    "    H0​: A altura média da turma on 35 é igual à altura média nacional.\n",
    "    H0:μ=161\n",
    "\n",
    "**Hipótese Alternativa (H1):**\n",
    "\n",
    "A hipótese alternativa é a afirmação que desejamos testar, que sugere que existe uma diferença significativa.\n",
    "\n",
    "No contexto do nosso exemplo:\n",
    "\n",
    "      H1​: A altura média dos alunos da turma é diferente da altura média nacional.\n",
    "      H1:μ≠161\n",
    "\n",
    "### Em outras palavras...\n",
    "\n",
    "**Hipótese Nula (H0):**\n",
    "\n",
    "Supõe que não há diferença entre a média da amostra e a média da população (161 cm). A média da altura das alunas da turma é 160 cm.\n",
    "\n",
    "**Hipótese Alternativa (H1):**\n",
    "\n",
    "Sugere que há uma diferença entre a média da amostra e a média da população. A média da altura das alunas da turma não é 160 cm.\n",
    "\n",
    "\n",
    "**Teste Bilateral:**\n",
    "\n",
    "Neste exemplo, utilizamos um teste bilateral (ou de duas caudas), pois estamos verificando se a média da altura da turma é diferente (pode ser maior ou menor) da média nacional, e não apenas se é maior ou menor.\n"
   ]
  },
  {
   "cell_type": "code",
   "execution_count": 1,
   "metadata": {},
   "outputs": [
    {
     "name": "stdout",
     "output_type": "stream",
     "text": [
      "Teste z para uma amostra:\n",
      "z-statistic: 1.1282, p-value: 0.2593\n"
     ]
    }
   ],
   "source": [
    "import numpy as np\n",
    "from statsmodels.stats.weightstats import ztest\n",
    "\n",
    "# Dados da amostra\n",
    "altura_turma = np.array([158, 162, 161, 159, 164, 165, 157, 160, 163, 161, 159, 162, 158, 160, 161])\n",
    "media_nacional = 161\n",
    "\n",
    "# Teste z para uma amostra\n",
    "z_statistic, p_value = ztest(altura_turma, value=media_nacional)\n",
    "print(\"Teste z para uma amostra:\")\n",
    "print(f\"z-statistic: {z_statistic:.4f}, p-value: {p_value:.4f}\")"
   ]
  },
  {
   "cell_type": "markdown",
   "metadata": {},
   "source": [
    "**Respostas Esperadas:**\n",
    "\n",
    "Teste z para uma amostra:\n",
    "\n",
    "\n",
    "    * Se o valor p for menor que 0.05, a altura média da turma é significativamente diferente de 160 cm.\n",
    "\n",
    "    A interpretação do valor do teste z para uma amostra, com uma estatística z de 1.1282 e um valor p de 0.2593, é a seguinte:\n",
    "\n",
    "**Interpretação:**\n",
    "\n",
    "**Estatística z (z-statistic): 1.1282**\n",
    "\n",
    "  A estatística z indica quantos desvios padrão a média da amostra está distante da média de referência (160 cm) sob a hipótese nula.\n",
    "  Um valor positivo da estatística z sugere que a média da amostra está acima da média de referência, mas precisamos do valor p para determinar a significância.\n",
    "\n",
    "**Valor p (p-value): 0.2593**\n",
    "\n",
    "  O valor p representa a probabilidade de observar um valor da estatística z tão extremo ou mais extremo do que o valor observado, assumindo que a hipótese nula é verdadeira.\n",
    "  Neste caso, um valor p de 0.2593 significa que há aproximadamente 25.93% de chance de obter a média da amostra observada (ou uma mais extrema) se a média real da população fosse de fato 160 cm.\n",
    "\n",
    "**Conclusão:**\n",
    "\n",
    "Nível de Significância: Um nível de significância comum usado em testes estatísticos é 0.05 (ou 5%). Se o valor p for menor que 0.05, rejeitamos a hipótese nula.\n",
    "Neste caso: O valor p (0.2593) é maior que 0.05. Portanto, não rejeitamos a hipótese nula.\n",
    "\n",
    "**Interpretação Final:**\n",
    "\n",
    "A altura média da amostra de alturas da turma não é significativamente diferente de 160 cm. Em outras palavras, não há evidências estatisticamente significativas para afirmar que a altura média da turma difere da altura média nacional de 160 cm."
   ]
  }
 ],
 "metadata": {
  "kernelspec": {
   "display_name": "Python 3",
   "language": "python",
   "name": "python3"
  },
  "language_info": {
   "codemirror_mode": {
    "name": "ipython",
    "version": 3
   },
   "file_extension": ".py",
   "mimetype": "text/x-python",
   "name": "python",
   "nbconvert_exporter": "python",
   "pygments_lexer": "ipython3",
   "version": "3.12.5"
  }
 },
 "nbformat": 4,
 "nbformat_minor": 2
}
