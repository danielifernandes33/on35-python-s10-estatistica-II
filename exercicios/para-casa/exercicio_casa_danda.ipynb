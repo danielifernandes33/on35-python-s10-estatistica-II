{
 "cells": [
  {
   "cell_type": "markdown",
   "metadata": {},
   "source": [
    "# Coleta de dados para o exercício de casa:\n",
    "\n",
    "Coletar a altura média de cada um dos alunas jogadors do time de basquete EUA nos jogos Olímpicos de Paris 2024.\n",
    "Coletar a altura média dos 10 jogadores mais altos da hisória da liga NBA.\n",
    "\n",
    "\n",
    "**Exercício: Teste z para Altura Média dos jogadores de basquete Norte Americanos**\n",
    "\n",
    "**Cenário:**\n",
    "\n",
    "Desejo avaliar se a altura média dos jogadores de basquete americanos que jogaram nos jogos Olímpicos de Paris 2024 é significativamente diferente da altura média dos 10 jogadores mais altos da NBA, que é de 228 cm.\n",
    "\n",
    "informações:\n",
    "jogadores mais altos da liga NBA >> https://olympics.com/pt/noticias/nba-jogadores-mais-altos-historia\n",
    "\n",
    "Gheorghe Mureșan (ROM) - 2.31m\n",
    "Manute Bol (SUD) - 2.31m\n",
    "Tacko Fall (SEN) - 2.29m\n",
    "Slavko Vraneš - 2.29m\n",
    "Shawn Bradley (EUA) - 2.29m\n",
    "Yao Ming (CHI) - 2.29m\n",
    "Chuck Nevitt (EUA) - 2.26m\n",
    "Pavel Podkolzin (RUS) - 2.26m\n",
    "Sim Bhullar (CAN) - 2.26m\n",
    "Victor Wembanyama (FRA) - 2.26m\n",
    "\n",
    "Altura média dos jogadores mais altos da NBA (em cm) : [231, 231, 229, 229, 229, 229, 226, 226, 226, 226, 226]\n",
    "\n",
    "**Objetivo:**\n",
    "\n",
    "    Verificar se a altura média dos jogadores de basquete olímplicos estadunidenses, Paris 2024  é significativamente diferente de 228 cm.\n",
    "\n",
    "Dados da Amostra:\n",
    "\n",
    "    Altura dos jogadores olímpicos 2024 (em cm): [206, 191, 193, 206, 193, 198, 193, 208, 193, 213, 198, 193]\n",
    "\n",
    "LeBron James: 2.06 m\n",
    "Stephen Curry: 1.91 m\n",
    "Devin Booker: 1.93 m\n",
    "Kevin Durant: 2.06 m\n",
    "Anthony Edwards: 1.93 m\n",
    "Bam Adebayo: 1.98 m\n",
    "Derrick White: 1.93 m\n",
    "Anthony Davis: 2.08 m\n",
    "Jrue Holiday: 1.93 m\n",
    "Joel Embiid: 2.13 m\n",
    "Jayson Tatum: 1.98 m\n",
    "Tyrese Haliburton: 1.93 m\n",
    "\n",
    "\n",
    "**Perguntas:**\n",
    "\n",
    "\n",
    "Calcule a estatística z e o valor p para verificar se a altura média dos jogadores de basquete olímpicos 2024 norte americanos é significativamente diferente de 228 cm.\n",
    "\n",
    "**Interprete os resultados:** A altura média dos jogadores de basquete olímpicos 2024 norte americanos é significativamente diferente de 228 cm?\n",
    "\n",
    "**Hipóteses:**\n",
    "\n",
    "**Hipótese Nula (H0):**\n",
    "\n",
    "A hipótese nula é a suposição inicial de que não há diferença significativa entre a média da amostra e o valor de referência.\n",
    "No contexto do nosso exemplo:\n",
    "\n",
    "    H0​: A altura média dos jogadores de basquete olímpicos 2024 norte americanos é igual à altura média dos 10 jogadores mais altos da NBA.\n",
    "    H0:μ = 228\n",
    "\n",
    "**Hipótese Alternativa (H1):**\n",
    "\n",
    "A hipótese alternativa é a afirmação que desejamos testar, que sugere que existe uma diferença significativa.\n",
    "\n",
    "No contexto do nosso exemplo:\n",
    "\n",
    "      H1​: A altura média dos jogadores de basquete olímpicos 2024 norte americanos é diferente da altura média dos 10 jogadores mais altos da NBA.\n",
    "      H1:μ ≠ 228\n",
    "\n",
    "### Em outras palavras...\n",
    "\n",
    "**Hipótese Nula (H0):**\n",
    "\n",
    "Supõe que não há diferença entre a média dos jogadores de basquete olímpicos 2024 norte americanos e a média dos 10 jogadores mais altos da NBA (228 cm). A média da altura dos jogadores de basquete olímpicos 2024 norte americanos é 198.75 cm.\n",
    "\n",
    "**Hipótese Alternativa (H1):**\n",
    "\n",
    "Sugere que há uma diferença entre a média dos jogadores de basquete olímpicos 2024 norte americanos e a média da dos 10 jogadores mais altos da NBA. A média da altura dos jogadores olímpicos de basquete estadunidenses, Paris 2024 não é 198.75 cm.\n",
    "\n",
    "\n",
    "**Teste Bilateral:**\n",
    "\n",
    "Neste exemplo, utilizamos um teste bilateral (ou de duas caudas), pois estamos verificando se a média média dos jogadores de basquete olímpicos 2024 norte americanos é diferente (pode ser maior ou menor) da média dos 10 jogadores mais altos da NBA, e não apenas se é maior ou menor.\n"
   ]
  },
  {
   "cell_type": "code",
   "execution_count": 4,
   "metadata": {},
   "outputs": [
    {
     "name": "stdout",
     "output_type": "stream",
     "text": [
      "A média é: 228.0\n"
     ]
    }
   ],
   "source": [
    "jogadores_mais_altos_nba = [231, 231, 229, 229, 229, 229, 226, 226, 226, 226, 226]\n",
    "\n",
    "media = sum(jogadores_mais_altos_nba) / len(jogadores_mais_altos_nba)\n",
    "\n",
    "print(\"A média é:\", media)\n"
   ]
  },
  {
   "cell_type": "code",
   "execution_count": 5,
   "metadata": {},
   "outputs": [
    {
     "name": "stdout",
     "output_type": "stream",
     "text": [
      "Teste z para uma amostra:\n",
      "z-statistic: -13.4937, p-value: 0.0000\n"
     ]
    }
   ],
   "source": [
    "import numpy as np\n",
    "from statsmodels.stats.weightstats import ztest\n",
    "\n",
    "# Dados da amostra\n",
    "jogadores_olimpicos_americanos = np.array([206, 191, 193, 206, 193, 198, 193, 208, 193, 213, 198, 193])\n",
    "jogadores_mais_altos_nba = 228\n",
    "\n",
    "# Teste z para uma amostra\n",
    "z_statistic, p_value = ztest(jogadores_olimpicos_americanos, value= jogadores_mais_altos_nba)\n",
    "print(\"Teste z para uma amostra:\")\n",
    "print(f\"z-statistic: {z_statistic:.4f}, p-value: {p_value:.4f}\")"
   ]
  },
  {
   "cell_type": "markdown",
   "metadata": {},
   "source": [
    "**Respostas Esperadas:**\n",
    "\n",
    "Teste z para uma amostra:\n",
    "\n",
    "\n",
    "    * Se o valor p (0.000) for menor que 0.05, a altura dos jogadores de basquete olímpico americanos é significativamente diferente de 228 cm.\n",
    "\n",
    "    A interpretação do valor do teste z para uma amostra, com uma estatística z de -13.4937 e um valor p de 0.0000, é a seguinte:\n",
    "\n",
    "**Interpretação:**\n",
    "\n",
    "**Estatística z (z-statistic): -13.4937**\n",
    "\n",
    "  A estatística z indica quantos desvios padrão a média da amostra está distante da média de referência (228 cm) sob a hipótese nula.\n",
    "  Um valor negativo da estatística z sugere que a média da amostra está acima da abaixo de referência, mas precisamos do valor p para determinar a significância.\n",
    "\n",
    "  Por exemplo, se a estatística z é -13, isso indica que a observação está 13 desvios-padrão abaixo da média. Quanto mais negativo o valor de z, mais distante (e abaixo) da média está a observação.\n",
    "\n",
    "**Valor p (p-value): 0.0000**\n",
    "\n",
    "  O valor p representa a probabilidade de observar um valor da estatística z tão extremo ou mais extremo do que o valor observado, assumindo que a hipótese nula é verdadeira.\n",
    "  Neste caso, um valor p de 0.0000 significa que há aproximadamente 0.0% de chance de obter a média da amostra observada (ou uma mais extrema) sendo a média dos jogadores mais altos da NBA 228 cm.\n",
    "\n",
    "**Conclusão:**\n",
    "\n",
    "Nível de Significância: Um nível de significância comum usado em testes estatísticos é 0.05 (ou 5%). Se o valor p for menor que 0.05, rejeitamos a hipótese nula.\n",
    "Neste caso: O valor p (0.000) é menor que 0.05. Portanto, rejeitamos a hipótese nula.\n",
    "\n",
    "**Interpretação Final:**\n",
    "\n",
    "A altura média dos jogadores de basquete olímpico da seleção norte americana é significativamente diferente de 228 cm. Em outras palavras, há evidências estatisticamente significativas para afirmar que a altura média dos jogadores estadunidendes de basquete nas Olímpiadas de Paris 2024 difere da altura média dos 10 jogadores mais alto da NBA de 228 cm."
   ]
  }
 ],
 "metadata": {
  "kernelspec": {
   "display_name": "Python 3",
   "language": "python",
   "name": "python3"
  },
  "language_info": {
   "codemirror_mode": {
    "name": "ipython",
    "version": 3
   },
   "file_extension": ".py",
   "mimetype": "text/x-python",
   "name": "python",
   "nbconvert_exporter": "python",
   "pygments_lexer": "ipython3",
   "version": "3.12.5"
  }
 },
 "nbformat": 4,
 "nbformat_minor": 2
}
